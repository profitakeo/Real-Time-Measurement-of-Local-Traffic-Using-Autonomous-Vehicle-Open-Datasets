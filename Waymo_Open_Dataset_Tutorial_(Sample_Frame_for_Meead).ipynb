{
  "nbformat": 4,
  "nbformat_minor": 0,
  "metadata": {
    "colab": {
      "name": "Waymo Open Dataset Tutorial (Sample Frame - for Meead).ipynb",
      "provenance": [],
      "collapsed_sections": []
    },
    "kernelspec": {
      "name": "python3",
      "display_name": "Python 3"
    }
  },
  "cells": [
    {
      "cell_type": "markdown",
      "metadata": {
        "id": "kpqVznKn7IrR"
      },
      "source": [
        "NB: The below code is run using Google Colab\n",
        "\n",
        "- Restart runtime before running\n",
        "- \n",
        "\n"
      ]
    },
    {
      "cell_type": "code",
      "metadata": {
        "id": "zxX_JIZrdKoR"
      },
      "source": [
        "# Clone Waymo tools/resources\n",
        "!rm -rf waymo-od > /dev/null\n",
        "!git clone https://github.com/waymo-research/waymo-open-dataset.git waymo-od\n",
        "!cd waymo-od && git branch -a\n",
        "!cd waymo-od && git checkout remotes/origin/r1.0\n",
        "!pip3 install --upgrade pip"
      ],
      "execution_count": null,
      "outputs": []
    },
    {
      "cell_type": "code",
      "metadata": {
        "id": "eEt26SyRli7J"
      },
      "source": [
        "# Use tensorflow ver. 1\n",
        "%tensorflow_version 1.x\n",
        "\n",
        "import tensorflow as tf\n",
        "print(tf.__version__)"
      ],
      "execution_count": null,
      "outputs": []
    },
    {
      "cell_type": "code",
      "metadata": {
        "id": "hDQ1DPqwdfNW"
      },
      "source": [
        "!pip3 install waymo-open-dataset\n",
        "import os\n",
        "import math\n",
        "import numpy as np\n",
        "import pandas as pd\n",
        "import itertools\n",
        "\n",
        "tf.enable_eager_execution()\n",
        "\n",
        "from waymo_open_dataset.utils import range_image_utils\n",
        "from waymo_open_dataset.utils import transform_utils\n",
        "from waymo_open_dataset.utils import frame_utils\n",
        "from waymo_open_dataset import dataset_pb2 as open_dataset"
      ],
      "execution_count": null,
      "outputs": []
    },
    {
      "cell_type": "code",
      "metadata": {
        "id": "Xqnx3zUYcQZa",
        "outputId": "e7cf3786-cd2c-42dd-a196-7ab3f76a7ec2",
        "colab": {
          "base_uri": "https://localhost:8080/"
        }
      },
      "source": [
        "# Mount Google Drive, which will prompt for authorisation\n",
        "from google.colab import drive\n",
        "drive.mount('/gdrive')"
      ],
      "execution_count": null,
      "outputs": [
        {
          "output_type": "stream",
          "text": [
            "Drive already mounted at /gdrive; to attempt to forcibly remount, call drive.mount(\"/gdrive\", force_remount=True).\n"
          ],
          "name": "stdout"
        }
      ]
    },
    {
      "cell_type": "code",
      "metadata": {
        "id": "VNoD78U5MYdd",
        "outputId": "73423fc4-837b-492e-cd62-f3fc23b1e3b7",
        "colab": {
          "base_uri": "https://localhost:8080/"
        }
      },
      "source": [
        "import nltk\n",
        "nltk.download('punkt')\n",
        "import math\n",
        "from google.colab import files\n",
        "\n",
        "# FUNCTION FOR CONVERSION OF DATA TO DF/CSV\n",
        "def frame_to_dataframe(frame_data, frame_num):\n",
        "  nltk_tokens = nltk.word_tokenize(str(frame_data));\n",
        "\n",
        "  df = pd.DataFrame();\n",
        "\n",
        "  for i in range(len(nltk_tokens)):\n",
        "    if nltk_tokens[i] == 'laser_labels':\n",
        "      values1 = [[ nltk_tokens[i], nltk_tokens[i+47], nltk_tokens[i+6], nltk_tokens[i+9], nltk_tokens[i+12], \\\n",
        "                nltk_tokens[i+15], nltk_tokens[i+18], nltk_tokens[i+21], nltk_tokens[i+24], nltk_tokens[i+30],\\\n",
        "                nltk_tokens[i+33], nltk_tokens[i+36], nltk_tokens[i+39], nltk_tokens[i+43] ]];\n",
        "      df=df.append(values1, ignore_index=True);\n",
        "    if nltk_tokens[i] == 'camera_labels':\n",
        "      if nltk_tokens[i+5] == 'labels':\n",
        "        values2 = [[ nltk_tokens[i]+nltk_tokens[i+4], nltk_tokens[i+28], nltk_tokens[i+11], nltk_tokens[i+14],\\\n",
        "                    'NaN', nltk_tokens[i+17], nltk_tokens[i+20], 'NaN', 'NaN', 'NaN', 'NaN','NaN', 'NaN',\\\n",
        "                    nltk_tokens[i+24] ]];\n",
        "        df=df.append(values2, ignore_index=True);\n",
        "      elif nltk_tokens[i+5] == '}':\n",
        "        continue\n",
        "      for m in range(1,math.floor((len(nltk_tokens)-i)/31)):\n",
        "        if nltk_tokens[i+5+26*m] != 'labels':\n",
        "          break\n",
        "        elif nltk_tokens[i+5+26*m] == 'labels':\n",
        "          j = (i+5+26*m);\n",
        "          values3 = [[ nltk_tokens[i]+nltk_tokens[i+4], nltk_tokens[j+23], nltk_tokens[j+6], nltk_tokens[j+9],\\\n",
        "                'NaN', nltk_tokens[j+12], nltk_tokens[j+15], 'NaN', 'NaN', 'NaN', 'NaN','NaN', 'NaN',\\\n",
        "                nltk_tokens[j+19] ]];\n",
        "          df=df.append(values3, ignore_index=True);\n",
        "\n",
        "  df.columns = ['device','iD', 'center_x', 'center_y', 'center_z', 'width', 'length', 'height', \\\n",
        "                'heading', 'speed_x', 'speed_y', 'accel_x', 'accel_y', 'type'];\n",
        "\n",
        "  df[['center_x', 'center_y', 'center_z', 'width', 'length', 'height', 'heading', 'speed_x', 'speed_y', 'accel_x', 'accel_y']]= \\\n",
        "   df[['center_x', 'center_y', 'center_z', 'width', 'length', 'height', 'heading', 'speed_x', 'speed_y', 'accel_x', 'accel_y']].astype('float64')\n",
        "  \n",
        "  return df\n",
        "  \n",
        "  #frame_xlsx ='frame' + str(frame_num) + '.xlsx';\n",
        "  #df.to_excel(r'/content/Extracted_Data/' + frame_xlsx);  #https://pandas.pydata.org/pandas-docs/stable/reference/api/pandas.DataFrame.to_excel.html \n",
        "  #files.download('/content/Extracted_Data/' + frame_xlsx)\n",
        "\n",
        "# FUNCTION FOR CALCULATION OF TRAFFIC USING DF\n",
        "def DF_to_finaldata(df1, df2, final_data_append):\n",
        "  # Determine distance moved by stationary sign in 2 frames\n",
        "  is_sign = df1['type']=='TYPE_SIGN' # Filtering for stationary sign object\n",
        "  df_sign = df1[is_sign] \n",
        "  AV_dist_x_1 = df_sign['center_x'].iloc[0] # Select stationary sign object in first row\n",
        "  AV_dist_y_1 = df_sign['center_y'].iloc[0] # Take corresponding location values\n",
        "\n",
        "  #find_speed = df2['iD'] == df_sign._get_value(0, 'iD') # NEED TO UNDERSTAND WHY THIS DOESNT WORK!! (for frame 1 but not frame 150)\n",
        "  #https://www.kite.com/python/answers/how-to-get-a-value-from-a-cell-of-a-pandas-dataframe-in-python\n",
        "  find_speed = df2['iD'] == df_sign.iloc[0][\"iD\"] # Go to next DF and find corresponding statiionary sign object\n",
        "  df_sign_2 = df2[find_speed]\n",
        "\n",
        "  AV_dist_x_2 = df_sign_2['center_x'].iloc[0] # metres\n",
        "  AV_dist_y_2 = df_sign_2['center_y'].iloc[0] # Take corresponding location values; metres\n",
        "  print(AV_dist_x_1, AV_dist_y_1, AV_dist_x_2, AV_dist_y_2)\n",
        "\n",
        "  # Determine AV speed\n",
        "  AV_speed_x = -(AV_dist_x_2 - AV_dist_x_1)/0.1 # m/s\n",
        "  AV_speed_y = -(AV_dist_y_2 - AV_dist_y_1)/0.1 # m/s\n",
        " \n",
        "  # Determine x-distance travelled by AV\n",
        "  AV_dist_x = -(AV_dist_x_2 - AV_dist_x_1) # metres\n",
        "\n",
        "  print(round(AV_speed_x,5), round(AV_speed_y, 5))\n",
        "\n",
        "  df_AV = {'device': 'laser_labels', 'iD': 'AV', 'center_x':0, 'center_y':0, 'center_z':0, 'width':np.NaN, 'length':5.17, 'height':np.NaN, 'heading':0, 'speed_x':AV_speed_x, 'speed_y':AV_speed_y, 'accel_x':np.NaN, 'accel_y':np.NaN, 'type': 'TYPE_VEHICLE'} \n",
        "  # https://www.geeksforgeeks.org/how-to-add-one-row-in-an-existing-pandas-dataframe/\n",
        "\n",
        "  df2 = df2.append(df_AV, ignore_index=True) # Append AV vehicle data to df2 (i.e. Frame 2)\n",
        "\n",
        "  is_veh = df2['type']=='TYPE_VEHICLE' # Filter DF for vehicle objects\n",
        "  df_veh = df2[is_veh]\n",
        "\n",
        "  is_veh = df_veh['device']=='laser_labels' # Filter DF for lidar/laser data\n",
        "  df_veh = df_veh[is_veh] \n",
        "\n",
        "  df_veh = df_veh.sort_values(by=['center_x']) # Sort DF by center_x values\n",
        "\n",
        "  is_road = abs(df_veh['center_y']) <= 3.7/2 # Filter DF for vehicles on straight road\n",
        "  df_road = df_veh[is_road]\n",
        "  df_road\n",
        "\n",
        "  no_turn = abs(df_road['heading']) <= math.pi/4 # Filter DF based on heading criterion\n",
        "  df_straight = df_road[no_turn]\n",
        "  df_straight\n",
        "\n",
        "  # Calculation of inputs\n",
        "  df_1 = [] \n",
        "  for index, row in df_straight.iterrows(): # https://stackoverflow.com/questions/16476924/how-to-iterate-over-rows-in-a-dataframe-in-pandas\n",
        "    x_b = row['center_x'] - row['length']*0.5*math.cos(row['heading']) # rear bumper coordinates\n",
        "    y_b = row['center_y'] - row['length']*0.5*math.sin(row['heading'])\n",
        "\n",
        "    x_f = row['center_x'] + row['length']*0.5*math.cos(row['heading']) # front bumper coordinates\n",
        "    y_f = row['center_y'] + row['length']*0.5*math.sin(row['heading'])\n",
        " \n",
        "    iD = row['iD']\n",
        "    speed_tot = math.sqrt(row['speed_x']**2+row['speed_y']**2) # defining total speed value\n",
        "    center_x = row['center_x']\n",
        "    length = row['length']\n",
        "\n",
        "    df_1.append([iD, speed_tot, center_x, length, x_b, y_b, x_f, y_f])\n",
        "\n",
        "  df_2 = pd.DataFrame(df_1, columns=['iD', 'speed_tot', 'center_x', 'length','x_b', 'y_b', 'x_f', 'y_f'])\n",
        "\n",
        "  # Shifting of rows, to allow for calculation between 2 consecutive rows\n",
        "  df_2['shifted_x_b'] = df_2['x_b'].shift(-1) # https://stackoverflow.com/questions/42664418/referencing-to-the-next-index-in-iterrows\n",
        "  df_2['shifted_y_b'] = df_2['y_b'].shift(-1)\n",
        "  df_2['shifted_x_f'] = df_2['x_f'].shift(-1)\n",
        "  df_2['shifted_y_f'] = df_2['y_f'].shift(-1)\n",
        "  df_2\n",
        "\n",
        "  # Calculation of traffic\n",
        "  df_3 = []\n",
        "  for index, row in df_2.iterrows():\n",
        "    s = math.sqrt((row['shifted_x_b'] - row['x_f']) **2 + (row['shifted_y_b'] - row['y_f']) **2) # spacing (rear bumper to front bumper)\n",
        "    f = math.sqrt((row['shifted_x_f'] - row['x_f']) **2 + (row['shifted_y_f'] - row['y_f']) **2) # front bumper to front bumper \n",
        "    h = f / row['speed_tot'] # headway\n",
        "    df_3.append([s,f,h])\n",
        "\n",
        "  df_3 = pd.DataFrame(df_3, columns=['s', 'f', 'h'])\n",
        "  df_3\n",
        "\n",
        "  df_4 = pd.concat([df_2, df_3], axis=1)\n",
        "  df_4\n",
        "\n",
        "  df_5 = df_4.drop(columns=['shifted_x_b', 'shifted_y_b', 'shifted_x_f', 'shifted_y_f']) # removed shifted columns\n",
        "  df_5\n",
        "\n",
        "  q_flow =  len(df_5) / df_5['h'].sum() *3600 # veh/hr/lane\n",
        "  k_density = len(df_5) / df_5['s'].sum()  *1000 # veh/km/lane\n",
        "  v_avgspeed = df_5['speed_tot'].mean()*3.6 # km/h\n",
        "  x = AV_dist_x # metres\n",
        "  d_framelenx = (df_5['center_x'].max() + df_5['length'][df_5['center_x'].idxmax()]*0.5)- \\\n",
        "    (df_5['center_x'].min() - df_5['length'][df_5['center_x'].idxmin()]*0.5) # Calculating distance between front and last vehicle\n",
        "    # https://stackoverflow.com/questions/50464241/returning-the-actual-index-value-of-max-min-values-from-a-pandas-dataframe-col\n",
        "\n",
        "  final_data = {'q': [q_flow], 'k': [k_density], 'v':[v_avgspeed], 'd': [d_framelenx], 'x': [x]}\n",
        "  final_data = pd.DataFrame(final_data, columns = ['q', 'k', 'v', 'd', 'x'])\n",
        "\n",
        "  final_data_append = final_data_append.append(final_data, ignore_index = True)\n",
        "  return final_data_append\n",
        "\n",
        "  #final_data_xlsx ='final_data' + str(frame_num) + '.xlsx';\n",
        "  #final_data_append.to_excel(r'/content/Extracted_Data/' + final_data_xlsx);\n",
        "  #files.download('/content/Extracted_Data/' + final_data_xlsx)"
      ],
      "execution_count": null,
      "outputs": [
        {
          "output_type": "stream",
          "text": [
            "[nltk_data] Downloading package punkt to /root/nltk_data...\n",
            "[nltk_data]   Unzipping tokenizers/punkt.zip.\n"
          ],
          "name": "stdout"
        }
      ]
    },
    {
      "cell_type": "code",
      "metadata": {
        "id": "29uZtYLJBx2r"
      },
      "source": [
        "FILENAME = '/gdrive/My Drive/Colab Notebooks/training_0001.tar/segment-10599748131695282446_1380_000_1400_000_with_camera_labels.tfrecord'\n",
        "# OR FILENAME = '/content/waymo-od/tutorial/frames'\n",
        "dataset = tf.data.TFRecordDataset(FILENAME, compression_type='')\n",
        "\n",
        "\n",
        "i = 0 # initialise no. of frames as 0\n",
        "i2 = 1 # initialise\n",
        "j = 1 # start frame\n",
        "k = 198 # end frame\n",
        "d_append = pd.DataFrame()\n",
        "for data in dataset:\n",
        "\n",
        "  i += 1 # count number of frames; where i_max = 200 frames (or 200*5 = 1000 images altogether)\n",
        "\n",
        "  if i<=j-1:\n",
        "    continue\n",
        "  frame = open_dataset.Frame() # type(frame) = waymo_open_dataset.dataset_pb2.Frame\n",
        "  frame.ParseFromString(bytearray(data.numpy()))\n",
        "\n",
        "  (range_images, camera_projections,\n",
        "  range_image_top_pose) = frame_utils.parse_range_image_and_camera_projection(\n",
        "  frame)\n",
        "\n",
        "  if i2%2 != 0: # if index is odd\n",
        "    for index, image in enumerate(frame.images):\n",
        "      df1 = frame_to_dataframe(frame, i)\n",
        "\n",
        "  if i2 %2 == 0: # if index is even\n",
        "  # https://beginnersbook.com/2018/01/python-continue-statement/\n",
        "    for index, image in enumerate(frame.images):\n",
        "      df2 = frame_to_dataframe(frame, i)\n",
        "      if (index % 5) == 0: # https://stackoverflow.com/questions/57546406/how-to-skip-few-iterations-in-a-for-loop-based-on-a-if-condition\n",
        "        d_append = DF_to_finaldata(df1, df2, d_append) # Profita\n",
        "        final_data_xlsx ='final_data' + str(i) + '.xlsx';\n",
        "        d_append.to_excel(r'/content/Extracted_Data/' + final_data_xlsx);\n",
        "      else:\n",
        "        pass\n",
        "    df1=df2\n",
        "    i2 += 1\n",
        "\n",
        "  i2 += 1\n",
        "\n",
        "  if i==k: \n",
        "    break\n",
        "\n",
        "#final_data_xlsx ='final_data' + str(i) + '.xlsx';\n",
        "#d_append.to_excel(r'/content/Extracted_Data/' + final_data_xlsx);\n",
        "!zip -r /content/Extracted_Data/Extracted_Data.zip /content/Extracted_Data # Create zip folder, and list location of its contents you want to zip\n",
        "from google.colab import files\n",
        "files.download('/content/Extracted_Data/Extracted_Data.zip')"
      ],
      "execution_count": null,
      "outputs": []
    },
    {
      "cell_type": "code",
      "metadata": {
        "id": "zK8au49QO3lA"
      },
      "source": [
        "# https://medium.com/p/717b88a128c0/responses/show\n",
        "#ctrl+shift+i to open console; paste below in console\n",
        "#function ConnectButton(){\n",
        "#    console.log(\"Connect pushed\")\n",
        "#    document.querySelector(\"#top-toolbar > colab-connect-button\").shadowRoot.querySelector(\"#connect\").click() \n",
        "#}\n",
        "#setInterval(ConnectButton,60000)"
      ],
      "execution_count": null,
      "outputs": []
    }
  ]
}